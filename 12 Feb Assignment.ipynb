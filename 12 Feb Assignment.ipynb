{
 "cells": [
  {
   "cell_type": "markdown",
   "id": "d4c3f425-ae64-41ad-b32e-3d38e3dc2b8e",
   "metadata": {},
   "source": [
    "#Q1 ANSWER\n",
    "\n",
    "An exception is a class in Python that represents an error. When an exception is raised during the execution of code, it disrupts the normal flow of the program and can lead to a halt state or even a crash. To avoid this, it's important to do Exception handling in Python in a way that allows the program to continue running even if an error occurs.\n",
    "\n",
    "Exception handling in Python is achieved using the try and except blocks. The try block is used to enclose the code that may raise an exception, while the except block is used to handle the exception that may occur. If an exception is raised in the try block, the program jumps to the except block to handle it, instead of halting the program altogether.\n",
    "\n",
    "try:\n",
    "     code that may raise an exception\n",
    "except:\n",
    "     code to handle the exception\n",
    "     \n",
    "It's important to note that try and except blocks must be used together in order to handle exceptions properly. Writing just try or except blocks alone will result in an error.In addition, the except block can specify the type of exception that it wants to catch."
   ]
  },
  {
   "cell_type": "code",
   "execution_count": 1,
   "id": "d5b457e2-6b7a-4b56-8d8d-e69a92b281e4",
   "metadata": {},
   "outputs": [
    {
     "name": "stdout",
     "output_type": "stream",
     "text": [
      "we are in except block division by zero\n"
     ]
    }
   ],
   "source": [
    "try:\n",
    "    a=5/0\n",
    "except Exception as e:\n",
    "    print(\"we are in except block\",e)"
   ]
  },
  {
   "cell_type": "markdown",
   "id": "b055fc76-1cf1-4511-b125-e4e2ef518661",
   "metadata": {},
   "source": [
    "in the try block:\n",
    "\n",
    "5/0 is an error in python which is called ZeroDivisionError\n",
    "\n",
    "exception has been raised in try block which is caught and handled by except block"
   ]
  },
  {
   "cell_type": "markdown",
   "id": "d7b1a135-941f-4adc-bc37-ed7ad50c7fd8",
   "metadata": {},
   "source": [
    "There are mainly two types of errors in python programming.\n",
    "\n",
    "1.Syntax errors\n",
    "\n",
    "2.Logical Errors or Exceptions.\n",
    "\n",
    "#Syntax Errors\n",
    "\n",
    "\n",
    "A syntax error is one of the most basic types of error in programming. Whenever we do not write the proper syntax of the python programming language (or any other language) then the python interpreter or parser throws an error known as a syntax error. The syntax error simply means that the python parser is unable to understand a line of code\n",
    "\n",
    "number = 100\n",
    "\n",
    "if number > 50\n",
    "    print(\"Number is greater than 50!\")\n",
    "    \n",
    "output\n",
    "\n",
    "File \"test.py\", line 3\n",
    "    if number > 50\n",
    "                  ^\n",
    "SyntaxError: invalid syntax\n",
    "\n",
    "As we can see in the example above, the python interpretation raised a syntax error saying invalid syntax. Since we have missed the semicolon (:) after the if statement so that's why the python interpreter raised a syntax error.\n",
    "\n",
    "#Logical Error\n",
    "\n",
    "Logical Errors are those errors that cannot be caught during compilation time. As we cannot check these errors during compile time, we name them Exceptions. Since we cannot check the logical errors during compilation time, it is difficult to find them.\n",
    "\n",
    "There is one more name of logical error. Run time errors are those errors that cannot be caught during compilation time. So, run-time can cause some serious issues so we should handle them effectively."
   ]
  },
  {
   "cell_type": "markdown",
   "id": "528e7ec9-5346-4835-b248-abf428ddd5ce",
   "metadata": {},
   "source": [
    "#Q2 ANSWER\n",
    "\n",
    "Exceptions are errors that are detected during execution. Whenever there is an error in a program, exceptions are raised.\n",
    "\n",
    "If these exceptions are not handled, it drives the program into a halt state. Exception handling in python is required to prevent the program from terminating abruptly.\n",
    "\n",
    "To avoid this, it's important to do Exception handling in Python in a way that allows the program to continue running even if an error occurs"
   ]
  },
  {
   "cell_type": "code",
   "execution_count": 2,
   "id": "7dedd776-db03-4639-a5a2-37ad214aea5d",
   "metadata": {},
   "outputs": [
    {
     "ename": "ZeroDivisionError",
     "evalue": "division by zero",
     "output_type": "error",
     "traceback": [
      "\u001b[0;31m---------------------------------------------------------------------------\u001b[0m",
      "\u001b[0;31mZeroDivisionError\u001b[0m                         Traceback (most recent call last)",
      "Cell \u001b[0;32mIn[2], line 3\u001b[0m\n\u001b[1;32m      1\u001b[0m a\u001b[38;5;241m=\u001b[39m\u001b[38;5;241m5\u001b[39m\n\u001b[1;32m      2\u001b[0m b\u001b[38;5;241m=\u001b[39m\u001b[38;5;241m0\u001b[39m\n\u001b[0;32m----> 3\u001b[0m c\u001b[38;5;241m=\u001b[39m\u001b[43ma\u001b[49m\u001b[38;5;241;43m/\u001b[39;49m\u001b[43mb\u001b[49m\n\u001b[1;32m      4\u001b[0m d\u001b[38;5;241m=\u001b[39m(a\u001b[38;5;241m+\u001b[39mb)\u001b[38;5;241m*\u001b[39m\u001b[38;5;241m*\u001b[39m\u001b[38;5;241m2\u001b[39m\n\u001b[1;32m      5\u001b[0m \u001b[38;5;28mprint\u001b[39m(d)\n",
      "\u001b[0;31mZeroDivisionError\u001b[0m: division by zero"
     ]
    }
   ],
   "source": [
    "a=5\n",
    "b=0\n",
    "c=a/b\n",
    "d=(a+b)**2\n",
    "print(d)"
   ]
  },
  {
   "cell_type": "markdown",
   "id": "4db8157c-86f8-4101-a275-41af8a7ef96f",
   "metadata": {},
   "source": [
    "Explaination\n",
    "\n",
    "here we assigned a is 5, b is 0 and we asigned c as a/b and d as (a+b)**2 \n",
    "\n",
    "our program gets halted at c because a/b was a zero division error and so the program will get halted at this point\n",
    "\n",
    "and it will not read further lines which might be executable\n",
    "\n",
    "so it is important to handle excception\n"
   ]
  },
  {
   "cell_type": "code",
   "execution_count": 3,
   "id": "96fce17b-16d2-41a9-896d-96bc4d713829",
   "metadata": {},
   "outputs": [
    {
     "name": "stdout",
     "output_type": "stream",
     "text": [
      "division by zero\n",
      "25\n"
     ]
    }
   ],
   "source": [
    "try:\n",
    "    a=5\n",
    "    b=0\n",
    "    c=a/b\n",
    "except Exception as e:\n",
    "    print(e)\n",
    "d=(a+b)**2\n",
    "print(d)"
   ]
  },
  {
   "cell_type": "markdown",
   "id": "03860fc3-7bb7-4697-9094-9b9c3e0cc8d5",
   "metadata": {},
   "source": [
    "here exception is raised and handled by except block as zerodivision error and further lines have also been read"
   ]
  },
  {
   "cell_type": "markdown",
   "id": "9f0074be-a160-45a7-ae25-fa06c7c90cdd",
   "metadata": {},
   "source": [
    "#Q3 ANSWER\n",
    "\n",
    "Exception handling in Python is achieved using the try and except blocks. The try block is used to enclose the code that may raise an exception, while the except block is used to handle the exception that may occur. If an exception is raised in the try block, the program jumps to the except block to handle it, instead of halting the program altogether."
   ]
  },
  {
   "cell_type": "code",
   "execution_count": null,
   "id": "bdb317cd-a40b-4f47-b5bb-d3e87887dba2",
   "metadata": {},
   "outputs": [],
   "source": [
    "try:\n",
    "    f=open(\"alakhpandey.txt\",\"r\")\n",
    "    f.read()\n",
    "except Exception as e:\n",
    "    print(e)"
   ]
  },
  {
   "cell_type": "markdown",
   "id": "45869c38-d621-428a-a619-77a2f552d9af",
   "metadata": {},
   "source": [
    "in try block we tried to read file which doesnot exists it raised an error which caught and handled by except block as the given file or directory doesnt exists"
   ]
  },
  {
   "cell_type": "markdown",
   "id": "449d5b47-43fa-4a89-9892-75fecd08caf7",
   "metadata": {},
   "source": [
    "#Q4 ANSWER"
   ]
  },
  {
   "cell_type": "code",
   "execution_count": 5,
   "id": "c53d91eb-1e8b-4f9b-8075-fc7c96b96a2f",
   "metadata": {},
   "outputs": [],
   "source": [
    "#try and else\n",
    "def divide(x,y):\n",
    "    try:\n",
    "        c=x/y\n",
    "    except ZeroDivisionError as e:\n",
    "        print(\"there is an exception in try block\")\n",
    "        print(e)\n",
    "    else:\n",
    "        print(\"our try block has executed sucessfully with no exceptions\")\n",
    "        return c"
   ]
  },
  {
   "cell_type": "code",
   "execution_count": 6,
   "id": "b7e4e9be-4a65-4c21-95f3-97d2bea8233b",
   "metadata": {},
   "outputs": [
    {
     "name": "stdout",
     "output_type": "stream",
     "text": [
      "our try block has executed sucessfully with no exceptions\n"
     ]
    },
    {
     "data": {
      "text/plain": [
       "1.5"
      ]
     },
     "execution_count": 6,
     "metadata": {},
     "output_type": "execute_result"
    }
   ],
   "source": [
    "divide(3,2)"
   ]
  },
  {
   "cell_type": "code",
   "execution_count": 7,
   "id": "99a8e5a5-cca5-4131-a4a6-793a1b54bc4e",
   "metadata": {},
   "outputs": [
    {
     "name": "stdout",
     "output_type": "stream",
     "text": [
      "there is an exception in try block\n",
      "division by zero\n"
     ]
    }
   ],
   "source": [
    "divide(4,0)"
   ]
  },
  {
   "cell_type": "markdown",
   "id": "a0f364dc-ad6c-410f-8307-39c516842dfb",
   "metadata": {},
   "source": [
    "here in divide function we are dividing two numbers if there si ans exception in try block it will raise an excpetiona and jump to except block and else block will not get executed\n",
    "\n",
    "if there is no exception in try block so it wil got to else block and execute the commands in else block"
   ]
  },
  {
   "cell_type": "code",
   "execution_count": 11,
   "id": "aeca35e3-a516-4823-bb77-9c0d267005de",
   "metadata": {},
   "outputs": [],
   "source": [
    "#try and else and finally\n",
    "def divide(x,y):\n",
    "    try:\n",
    "        c=x/y\n",
    "    except ZeroDivisionError as e:\n",
    "        print(\"there is an exception in try block\")\n",
    "        print(e)\n",
    "    else:\n",
    "        print(\"our try block has executed sucessfully with no exceptions\")\n",
    "        return c\n",
    "    finally:\n",
    "        print(\" it doesnot depend the exception has raised or not in try block the finally block will always get executed\")"
   ]
  },
  {
   "cell_type": "code",
   "execution_count": 9,
   "id": "ba3ff53b-0c8c-4b69-b5d7-adaebf6a76bb",
   "metadata": {},
   "outputs": [
    {
     "name": "stdout",
     "output_type": "stream",
     "text": [
      "our try block has executed sucessfully with no exceptions\n",
      " it doesnot depend the exception has raised or not in try block the finally block will always get executed\n"
     ]
    },
    {
     "data": {
      "text/plain": [
       "2.0"
      ]
     },
     "execution_count": 9,
     "metadata": {},
     "output_type": "execute_result"
    }
   ],
   "source": [
    "divide(4,2)"
   ]
  },
  {
   "cell_type": "code",
   "execution_count": 10,
   "id": "0195aacd-dc50-4a80-84ed-23a2973d625f",
   "metadata": {},
   "outputs": [
    {
     "name": "stdout",
     "output_type": "stream",
     "text": [
      "there is an exception in try block\n",
      "division by zero\n",
      " it doesnot depend the exception has raised or not in try block the finally block will always get executed\n"
     ]
    }
   ],
   "source": [
    "divide(4,0)"
   ]
  },
  {
   "cell_type": "markdown",
   "id": "7c557e1c-209a-42d6-9611-c098bdb496c6",
   "metadata": {},
   "source": [
    "in first case no exception was there so else block got executed and finally block aslo get executed\n",
    "\n",
    "in second case exception was there so except block got executed and finally block also got executed\n",
    "\n",
    "so it doesnot depend the exception has raised or not in try block the finally block will always get executed\n",
    "\n",
    "Even though exceptions in python are automatically raised in runtime when some error occurs. Custom and predefined exceptions can also be thrown manually by raising it for specific conditions or a scenario using the raise keyword. (A custom exception is an exception that a programmer might raise if they have a requirement to break the flow of code in some specific scenario or condition) String messages supporting the reasons for raising an exception can also be provided to these custom exceptions.\n",
    "\n"
   ]
  },
  {
   "cell_type": "code",
   "execution_count": 14,
   "id": "332b325c-e854-4037-a541-25b990cd0e5b",
   "metadata": {},
   "outputs": [],
   "source": [
    "#raise\n",
    "def isstring(a):\n",
    "    if (a!=str):\n",
    "        raise TypeError(\"a has to be string\")\n",
    "    if (not a):\n",
    "        raise ValueError(\"a cannot be null\")\n",
    "    a.strip()\n",
    "    if (a==''):\n",
    "        return False\n",
    "    return True"
   ]
  },
  {
   "cell_type": "code",
   "execution_count": 13,
   "id": "d807f2a0-b741-49b3-9e8e-53cb8444857d",
   "metadata": {},
   "outputs": [
    {
     "ename": "TypeError",
     "evalue": "a has to be string",
     "output_type": "error",
     "traceback": [
      "\u001b[0;31m---------------------------------------------------------------------------\u001b[0m",
      "\u001b[0;31mTypeError\u001b[0m                                 Traceback (most recent call last)",
      "Cell \u001b[0;32mIn[13], line 1\u001b[0m\n\u001b[0;32m----> 1\u001b[0m \u001b[43misstring\u001b[49m\u001b[43m(\u001b[49m\u001b[38;5;241;43m1234\u001b[39;49m\u001b[43m)\u001b[49m\n",
      "Cell \u001b[0;32mIn[12], line 3\u001b[0m, in \u001b[0;36misstring\u001b[0;34m(a)\u001b[0m\n\u001b[1;32m      1\u001b[0m \u001b[38;5;28;01mdef\u001b[39;00m \u001b[38;5;21misstring\u001b[39m(a):\n\u001b[1;32m      2\u001b[0m     \u001b[38;5;28;01mif\u001b[39;00m (a\u001b[38;5;241m!=\u001b[39m\u001b[38;5;28mstr\u001b[39m):\n\u001b[0;32m----> 3\u001b[0m         \u001b[38;5;28;01mraise\u001b[39;00m \u001b[38;5;167;01mTypeError\u001b[39;00m(\u001b[38;5;124m\"\u001b[39m\u001b[38;5;124ma has to be string\u001b[39m\u001b[38;5;124m\"\u001b[39m)\n\u001b[1;32m      4\u001b[0m     \u001b[38;5;28;01mif\u001b[39;00m (\u001b[38;5;129;01mnot\u001b[39;00m a):\n\u001b[1;32m      5\u001b[0m         \u001b[38;5;28;01mraise\u001b[39;00m \u001b[38;5;167;01mValueError\u001b[39;00m(\u001b[38;5;124m\"\u001b[39m\u001b[38;5;124ma cannot be null\u001b[39m\u001b[38;5;124m\"\u001b[39m)\n",
      "\u001b[0;31mTypeError\u001b[0m: a has to be string"
     ]
    }
   ],
   "source": [
    "isstring(1234)"
   ]
  },
  {
   "cell_type": "markdown",
   "id": "653a7269-5e28-4415-ad8c-76af5c23f400",
   "metadata": {},
   "source": [
    "#Q5 ANSWER"
   ]
  },
  {
   "cell_type": "markdown",
   "id": "a145b0e2-4b1f-4be9-b6a5-c59e9c6a0b59",
   "metadata": {},
   "source": [
    "Python detects all the critical errors that occur during Compile-time and Runtime. It stops the program's execution if the error occurs and raises an exception. Some commonly raised Exceptions are ArithmeticError, AttributeError, ImportError, IOError, FileNotFoundError, etc.\n",
    "\n",
    "Sometimes we must enforce constraints on the values that specific program variables can take or save the program from running into an undesired state. In such situations, Python allows programmers to create User-defined Exceptions. To create a User-defined Exception, we need to create a class directly or indirectly derived from the built-in Exception class."
   ]
  },
  {
   "cell_type": "code",
   "execution_count": 15,
   "id": "2585764d-4d9d-47f4-806a-3f5ac8d858fa",
   "metadata": {},
   "outputs": [],
   "source": [
    "class naturalchecker(Exception): #CUSTOMISED EXCEPTION\n",
    "    def __init__(self,msg):\n",
    "        self.msg=msg"
   ]
  },
  {
   "cell_type": "code",
   "execution_count": 16,
   "id": "3eae79ae-5250-43ab-a60b-66827ac5a2db",
   "metadata": {},
   "outputs": [],
   "source": [
    "def naturalsum(n):\n",
    "    total=0\n",
    "    if n<1:\n",
    "        raise naturalchecker(\"number is less than 1 so we cannot do the sum\") # here we have raise our own exception\n",
    "    else:\n",
    "        for i in range(0,n+1):\n",
    "            total=total+i\n",
    "        return total"
   ]
  },
  {
   "cell_type": "code",
   "execution_count": 17,
   "id": "7746d310-9bba-44fd-9475-f50d4f516cb7",
   "metadata": {},
   "outputs": [
    {
     "name": "stdin",
     "output_type": "stream",
     "text": [
      "enter any natural number -2\n"
     ]
    },
    {
     "name": "stdout",
     "output_type": "stream",
     "text": [
      "number is less than 1 so we cannot do the sum\n"
     ]
    }
   ],
   "source": [
    "try:\n",
    "    n=int(input(\"enter any natural number\"))\n",
    "    s=naturalsum(n)\n",
    "except naturalchecker as e:\n",
    "    print(e)\n",
    "else:\n",
    "    print(s)"
   ]
  },
  {
   "cell_type": "code",
   "execution_count": 18,
   "id": "cf62c64c-036f-4129-bfab-141679a208f5",
   "metadata": {},
   "outputs": [
    {
     "name": "stdin",
     "output_type": "stream",
     "text": [
      "enter any natural number 50\n"
     ]
    },
    {
     "name": "stdout",
     "output_type": "stream",
     "text": [
      "1275\n"
     ]
    }
   ],
   "source": [
    "try:\n",
    "    n=int(input(\"enter any natural number\"))\n",
    "    s=naturalsum(n)\n",
    "except naturalchecker as e:\n",
    "    print(e)\n",
    "else:\n",
    "    print(s)"
   ]
  },
  {
   "cell_type": "markdown",
   "id": "2a470fa7-8e9a-497f-b638-7516c8b6e162",
   "metadata": {},
   "source": [
    "#Q6 ANSWER"
   ]
  },
  {
   "cell_type": "code",
   "execution_count": 19,
   "id": "11771b70-a247-4144-84f0-9fa7ad1d8220",
   "metadata": {},
   "outputs": [],
   "source": [
    "class markschecker(Exception):#customised exception\n",
    "    def __init__(self,msg):\n",
    "        self.msg=msg"
   ]
  },
  {
   "cell_type": "code",
   "execution_count": 20,
   "id": "e0368a23-197c-4f9c-8266-35b483ce995e",
   "metadata": {},
   "outputs": [],
   "source": [
    "def studentqualify(n):\n",
    "    if n<35:\n",
    "        raise markschecker(\"You are failed in the examination your are not eligible to apply\") #here we have usesd that exception\n",
    "    elif n<60:\n",
    "        raise markschecker(\"You are eligible to appy but you wont get selected\")\n",
    "    else:\n",
    "        print(\"you are eligible and you will be selected\")\n",
    "    "
   ]
  },
  {
   "cell_type": "code",
   "execution_count": 21,
   "id": "cf63a227-e09d-4526-8248-4819e6335788",
   "metadata": {},
   "outputs": [
    {
     "name": "stdin",
     "output_type": "stream",
     "text": [
      "enter your marks 34\n"
     ]
    },
    {
     "name": "stdout",
     "output_type": "stream",
     "text": [
      "You are failed in the examination your are not eligible to apply\n"
     ]
    }
   ],
   "source": [
    "try:\n",
    "    n=int(input(\"enter your marks\"))\n",
    "    studentqualify(n)\n",
    "except markschecker as e:\n",
    "    print(e)"
   ]
  },
  {
   "cell_type": "code",
   "execution_count": null,
   "id": "5e93c875-ff87-44f6-83f0-aceac92ae5e6",
   "metadata": {},
   "outputs": [],
   "source": []
  }
 ],
 "metadata": {
  "kernelspec": {
   "display_name": "Python 3 (ipykernel)",
   "language": "python",
   "name": "python3"
  },
  "language_info": {
   "codemirror_mode": {
    "name": "ipython",
    "version": 3
   },
   "file_extension": ".py",
   "mimetype": "text/x-python",
   "name": "python",
   "nbconvert_exporter": "python",
   "pygments_lexer": "ipython3",
   "version": "3.10.8"
  }
 },
 "nbformat": 4,
 "nbformat_minor": 5
}
